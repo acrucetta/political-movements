{
 "cells": [
  {
   "cell_type": "code",
   "execution_count": 1,
   "id": "c4aa0344",
   "metadata": {},
   "outputs": [
    {
     "data": {
      "application/vnd.jupyter.widget-view+json": {
       "model_id": "83e90c1e2c234ffba89835dfd775ad02",
       "version_major": 2,
       "version_minor": 0
      },
      "text/plain": [
       "VBox()"
      ]
     },
     "metadata": {},
     "output_type": "display_data"
    },
    {
     "name": "stdout",
     "output_type": "stream",
     "text": [
      "Starting Spark application\n"
     ]
    },
    {
     "data": {
      "text/html": [
       "<table>\n",
       "<tr><th>ID</th><th>YARN Application ID</th><th>Kind</th><th>State</th><th>Spark UI</th><th>Driver log</th><th>Current session?</th></tr><tr><td>0</td><td>application_1638811140383_0001</td><td>pyspark</td><td>idle</td><td><a target=\"_blank\" href=\"http://ip-172-31-10-7.ec2.internal:20888/proxy/application_1638811140383_0001/\" >Link</a></td><td><a target=\"_blank\" href=\"http://ip-172-31-3-23.ec2.internal:8042/node/containerlogs/container_1638811140383_0001_01_000001/livy\" >Link</a></td><td>✔</td></tr></table>"
      ],
      "text/plain": [
       "<IPython.core.display.HTML object>"
      ]
     },
     "metadata": {},
     "output_type": "display_data"
    },
    {
     "data": {
      "application/vnd.jupyter.widget-view+json": {
       "model_id": "",
       "version_major": 2,
       "version_minor": 0
      },
      "text/plain": [
       "FloatProgress(value=0.0, bar_style='info', description='Progress:', layout=Layout(height='25px', width='50%'),…"
      ]
     },
     "metadata": {},
     "output_type": "display_data"
    },
    {
     "name": "stdout",
     "output_type": "stream",
     "text": [
      "SparkSession available as 'spark'.\n"
     ]
    },
    {
     "data": {
      "application/vnd.jupyter.widget-view+json": {
       "model_id": "",
       "version_major": 2,
       "version_minor": 0
      },
      "text/plain": [
       "FloatProgress(value=0.0, bar_style='info', description='Progress:', layout=Layout(height='25px', width='50%'),…"
      ]
     },
     "metadata": {},
     "output_type": "display_data"
    },
    {
     "name": "stdout",
     "output_type": "stream",
     "text": [
      "Collecting boto3\n",
      "  Downloading https://files.pythonhosted.org/packages/13/21/30ad774b8ee7e8726f37623ce85aedb37f0d45c88ac3f83680807752c413/boto3-1.20.20-py3-none-any.whl (131kB)\n",
      "Requirement already satisfied: s3transfer<0.6.0,>=0.5.0 in /usr/local/lib/python3.7/site-packages (from boto3)\n",
      "Requirement already satisfied: jmespath<1.0.0,>=0.7.1 in /usr/local/lib/python3.7/site-packages (from boto3)\n",
      "Requirement already satisfied: botocore<1.24.0,>=1.23.20 in /usr/local/lib/python3.7/site-packages (from boto3)\n",
      "Requirement already satisfied: urllib3<1.27,>=1.25.4 in /usr/local/lib/python3.7/site-packages (from botocore<1.24.0,>=1.23.20->boto3)\n",
      "Requirement already satisfied: python-dateutil<3.0.0,>=2.1 in /usr/local/lib/python3.7/site-packages (from botocore<1.24.0,>=1.23.20->boto3)\n",
      "Requirement already satisfied: six>=1.5 in /usr/local/lib/python3.7/site-packages (from python-dateutil<3.0.0,>=2.1->botocore<1.24.0,>=1.23.20->boto3)\n",
      "Installing collected packages: boto3\n",
      "Successfully installed boto3-1.20.20\n",
      "\n",
      "Collecting requests\n",
      "  Downloading https://files.pythonhosted.org/packages/92/96/144f70b972a9c0eabbd4391ef93ccd49d0f2747f4f6a2a2738e99e5adc65/requests-2.26.0-py2.py3-none-any.whl (62kB)\n",
      "Collecting idna<4,>=2.5; python_version >= \"3\" (from requests)\n",
      "  Downloading https://files.pythonhosted.org/packages/04/a2/d918dcd22354d8958fe113e1a3630137e0fc8b44859ade3063982eacd2a4/idna-3.3-py3-none-any.whl (61kB)\n",
      "Requirement already satisfied: urllib3<1.27,>=1.21.1 in /usr/local/lib/python3.7/site-packages (from requests)\n",
      "Collecting charset-normalizer~=2.0.0; python_version >= \"3\" (from requests)\n",
      "  Downloading https://files.pythonhosted.org/packages/47/84/b06f6729fac8108c5fa3e13cde19b0b3de66ba5538c325496dbe39f5ff8e/charset_normalizer-2.0.9-py3-none-any.whl\n",
      "Collecting certifi>=2017.4.17 (from requests)\n",
      "  Downloading https://files.pythonhosted.org/packages/37/45/946c02767aabb873146011e665728b680884cd8fe70dde973c640e45b775/certifi-2021.10.8-py2.py3-none-any.whl (149kB)\n",
      "Installing collected packages: idna, charset-normalizer, certifi, requests\n",
      "Successfully installed certifi-2021.10.8 charset-normalizer-2.0.9 idna-3.3 requests-2.26.0\n",
      "\n",
      "Collecting pandas==1.0.3\n",
      "  Downloading https://files.pythonhosted.org/packages/4a/6a/94b219b8ea0f2d580169e85ed1edc0163743f55aaeca8a44c2e8fc1e344e/pandas-1.0.3-cp37-cp37m-manylinux1_x86_64.whl (10.0MB)\n",
      "Requirement already satisfied: pytz>=2017.2 in /usr/local/lib/python3.7/site-packages (from pandas==1.0.3)\n",
      "Requirement already satisfied: numpy>=1.13.3 in /usr/local/lib64/python3.7/site-packages (from pandas==1.0.3)\n",
      "Requirement already satisfied: python-dateutil>=2.6.1 in /usr/local/lib/python3.7/site-packages (from pandas==1.0.3)\n",
      "Requirement already satisfied: six>=1.5 in /usr/local/lib/python3.7/site-packages (from python-dateutil>=2.6.1->pandas==1.0.3)\n",
      "Installing collected packages: pandas\n",
      "Successfully installed pandas-1.0.3"
     ]
    }
   ],
   "source": [
    "sc.install_pypi_package(\"boto3\")\n",
    "sc.install_pypi_package(\"requests\")\n",
    "sc.install_pypi_package(\"pandas==1.0.3\")\n",
    "sc.install_pypi_package(\"s3fs\")"
   ]
  },
  {
   "cell_type": "code",
   "execution_count": 2,
   "id": "1a452c1b",
   "metadata": {},
   "outputs": [
    {
     "data": {
      "application/vnd.jupyter.widget-view+json": {
       "model_id": "d9b65f867242407f8a06cce6ee9e7f90",
       "version_major": 2,
       "version_minor": 0
      },
      "text/plain": [
       "VBox()"
      ]
     },
     "metadata": {},
     "output_type": "display_data"
    },
    {
     "data": {
      "application/vnd.jupyter.widget-view+json": {
       "model_id": "",
       "version_major": 2,
       "version_minor": 0
      },
      "text/plain": [
       "FloatProgress(value=0.0, bar_style='info', description='Progress:', layout=Layout(height='25px', width='50%'),…"
      ]
     },
     "metadata": {},
     "output_type": "display_data"
    },
    {
     "name": "stdout",
     "output_type": "stream",
     "text": [
      "explain_document_dl download started this may take some time.\n",
      "Approx size to download 169.4 MB\n",
      "[OK!]"
     ]
    }
   ],
   "source": [
    "import boto3\n",
    "import io\n",
    "import pandas as pd\n",
    "import sparknlp\n",
    "from sparknlp.pretrained import PretrainedPipeline\n",
    "from pyspark.sql.functions import *\n",
    "from pyspark.sql.functions import lit\n",
    "\n",
    "s3client = boto3.client('s3')\n",
    "resp = s3client.get_object(Bucket='political-movement-data', Key='key_terms.csv')\n",
    "terms_df = pd.read_csv(resp.get(\"Body\"))\n",
    "movements = list(terms_df['Movement'])\n",
    "pipeline = PretrainedPipeline('explain_document_dl', lang='en')"
   ]
  },
  {
   "cell_type": "code",
   "execution_count": 58,
   "id": "a9796dbb",
   "metadata": {},
   "outputs": [
    {
     "data": {
      "application/vnd.jupyter.widget-view+json": {
       "model_id": "5e64d87270d947989dde4d6fc3a71873",
       "version_major": 2,
       "version_minor": 0
      },
      "text/plain": [
       "VBox()"
      ]
     },
     "metadata": {},
     "output_type": "display_data"
    },
    {
     "data": {
      "application/vnd.jupyter.widget-view+json": {
       "model_id": "",
       "version_major": 2,
       "version_minor": 0
      },
      "text/plain": [
       "FloatProgress(value=0.0, bar_style='info', description='Progress:', layout=Layout(height='25px', width='50%'),…"
      ]
     },
     "metadata": {},
     "output_type": "display_data"
    },
    {
     "name": "stdout",
     "output_type": "stream",
     "text": [
      "[['Neoliberalism', 0, 1, 2010], ['Neoliberalism', 0, 2, 2010], ['Neoliberalism', 0, 3, 2010], ['Neoliberalism', 0, 4, 2010], ['Neoliberalism', 0, 5, 2010], ['Neoliberalism', 0, 6, 2010], ['Neoliberalism', 0, 7, 2010], ['Neoliberalism', 0, 8, 2010], ['Neoliberalism', 0, 9, 2010], ['Neoliberalism', 0, 10, 2010], ['Neoliberalism', 0, 11, 2010], ['Neoliberalism', 0, 12, 2010], ['Neoliberalism', 0, 1, 2011], ['Neoliberalism', 0, 2, 2011], ['Neoliberalism', 0, 3, 2011], ['Neoliberalism', 0, 4, 2011], ['Neoliberalism', 0, 5, 2011], ['Neoliberalism', 0, 6, 2011], ['Neoliberalism', 0, 7, 2011], ['Neoliberalism', 1, 8, 2011], ['Neoliberalism', 0, 9, 2011], ['Neoliberalism', 0, 10, 2011], ['Neoliberalism', 0, 11, 2011], ['Neoliberalism', 0, 12, 2011], ['Neoliberalism', 0, 1, 2012], ['Neoliberalism', 0, 2, 2012], ['Neoliberalism', 0, 3, 2012], ['Neoliberalism', 0, 4, 2012], ['Neoliberalism', 0, 5, 2012], ['Neoliberalism', 0, 6, 2012], ['Neoliberalism', 0, 7, 2012], ['Neoliberalism', 2, 8, 2012], ['Neoliberalism', 0, 9, 2012], ['Neoliberalism', 0, 10, 2012], ['Neoliberalism', 0, 11, 2012], ['Neoliberalism', 0, 12, 2012], ['Neoliberalism', 0, 1, 2013], ['Neoliberalism', 0, 2, 2013], ['Neoliberalism', 0, 3, 2013], ['Neoliberalism', 0, 4, 2013], ['Neoliberalism', 1, 5, 2013], ['Neoliberalism', 0, 6, 2013], ['Neoliberalism', 0, 7, 2013], ['Neoliberalism', 0, 8, 2013], ['Neoliberalism', 0, 9, 2013], ['Neoliberalism', 1, 10, 2013], ['Neoliberalism', 0, 11, 2013], ['Neoliberalism', 0, 12, 2013], ['Neoliberalism', 0, 1, 2014], ['Neoliberalism', 0, 2, 2014], ['Neoliberalism', 0, 3, 2014], ['Neoliberalism', 0, 4, 2014], ['Neoliberalism', 0, 5, 2014], ['Neoliberalism', 1, 6, 2014], ['Neoliberalism', 1, 7, 2014], ['Neoliberalism', 0, 8, 2014], ['Neoliberalism', 0, 9, 2014], ['Neoliberalism', 0, 10, 2014], ['Neoliberalism', 0, 11, 2014], ['Neoliberalism', 0, 12, 2014], ['Neoliberalism', 0, 1, 2015], ['Neoliberalism', 0, 2, 2015], ['Neoliberalism', 0, 3, 2015], ['Neoliberalism', 0, 4, 2015], ['Neoliberalism', 0, 5, 2015], ['Neoliberalism', 0, 6, 2015], ['Neoliberalism', 0, 7, 2015], ['Neoliberalism', 1, 8, 2015], ['Neoliberalism', 0, 9, 2015], ['Neoliberalism', 1, 10, 2015], ['Neoliberalism', 0, 11, 2015], ['Neoliberalism', 0, 12, 2015], ['Neoliberalism', 0, 1, 2016], ['Neoliberalism', 0, 2, 2016], ['Neoliberalism', 1, 3, 2016], ['Neoliberalism', 0, 4, 2016], ['Neoliberalism', 1, 5, 2016], ['Neoliberalism', 0, 6, 2016], ['Neoliberalism', 0, 7, 2016], ['Neoliberalism', 0, 8, 2016], ['Neoliberalism', 0, 9, 2016], ['Neoliberalism', 0, 10, 2016], ['Neoliberalism', 0, 11, 2016], ['Neoliberalism', 1, 12, 2016], ['Neoliberalism', 0, 1, 2017], ['Neoliberalism', 0, 2, 2017], ['Neoliberalism', 0, 3, 2017], ['Neoliberalism', 0, 4, 2017], ['Neoliberalism', 0, 5, 2017], ['Neoliberalism', 1, 6, 2017], ['Neoliberalism', 0, 7, 2017], ['Neoliberalism', 0, 8, 2017], ['Neoliberalism', 0, 9, 2017], ['Neoliberalism', 1, 10, 2017], ['Neoliberalism', 0, 11, 2017], ['Neoliberalism', 2, 12, 2017], ['Neoliberalism', 0, 1, 2018], ['Neoliberalism', 0, 2, 2018], ['Neoliberalism', 0, 3, 2018], ['Neoliberalism', 0, 4, 2018], ['Neoliberalism', 0, 5, 2018], ['Neoliberalism', 0, 6, 2018], ['Neoliberalism', 0, 7, 2018], ['Neoliberalism', 2, 8, 2018], ['Neoliberalism', 0, 9, 2018], ['Neoliberalism', 0, 10, 2018], ['Neoliberalism', 0, 11, 2018], ['Neoliberalism', 0, 12, 2018], ['Neoliberalism', 0, 1, 2019], ['Neoliberalism', 0, 2, 2019], ['Neoliberalism', 0, 3, 2019], ['Neoliberalism', 0, 4, 2019], ['Neoliberalism', 0, 5, 2019], ['Neoliberalism', 0, 6, 2019], ['Neoliberalism', 0, 7, 2019], ['Neoliberalism', 0, 8, 2019], ['Neoliberalism', 0, 9, 2019], ['Neoliberalism', 0, 10, 2019], ['Neoliberalism', 1, 11, 2019], ['Neoliberalism', 0, 12, 2019], ['Neoliberalism', 1, 1, 2020], ['Neoliberalism', 0, 2, 2020], ['Neoliberalism', 0, 3, 2020], ['Neoliberalism', 0, 4, 2020], ['Neoliberalism', 0, 5, 2020], ['Neoliberalism', 1, 6, 2020], ['Neoliberalism', 1, 7, 2020], ['Neoliberalism', 0, 8, 2020], ['Neoliberalism', 0, 9, 2020], ['Neoliberalism', 0, 10, 2020], ['Neoliberalism', 0, 11, 2020], ['Neoliberalism', 0, 12, 2020]]"
     ]
    }
   ],
   "source": [
    "import requests\n",
    "import time\n",
    "\n",
    "months = list(range(1,13))\n",
    "yrs = list(range(2010,2021))\n",
    "results = []\n",
    "one_movement = ['Neoliberalism']\n",
    "# Ended up doing one movement at at time because EMR kernel kept timing out but code is here to scale up\n",
    "for movement in one_movement:\n",
    "    term_string = str(list(terms_df[terms_df.Movement == movement]['Key Terms'])[0])\n",
    "    key_terms = [x.strip() for x in term_string.split(',')]\n",
    "    for yr in yrs:\n",
    "        abstracts = []\n",
    "        for month in months:\n",
    "            nyt_url = 'https://api.nytimes.com/svc/archive/v1/' + str(yr) + '/' + str(month) + '.json?api-key=hTKZ4p0PT2r6M6T1K3P88fGF3xzZ3QDY'\n",
    "            req = requests.get(nyt_url)\n",
    "            res_json = req.json()\n",
    "            docs = res_json['response']['docs']\n",
    "\n",
    "            #count mentions\n",
    "            p_cnt = 0\n",
    "            for doc in docs:\n",
    "                abstract = doc['abstract'].lower()\n",
    "                snippet = doc['snippet'].lower()\n",
    "                lead_para = doc['lead_paragraph'].lower()\n",
    "                if (any(x in abstract for x in key_terms) or any(x in snippet for x in key_terms) > 0 or any(x in lead_para for x in key_terms)):\n",
    "                    p_cnt += 1\n",
    "                    abstracts.append([doc['abstract']])\n",
    "\n",
    "            results.append([movement, p_cnt, month, yr])\n",
    "            time.sleep(6)\n",
    "\n",
    "    spark_abstracts = spark.createDataFrame(abstracts).toDF(\"text\")\n",
    "    spark_res = pipeline.transform(spark_abstracts)\n",
    "    ner_res = spark_res.select(explode(arrays_zip('lemma.result',\n",
    "                             'stem.result', \n",
    "                             'ner.result'\n",
    "                             )).alias(\"cols\")) \\\n",
    "    .select(expr(\"cols['0']\").alias(\"lemma\"),\n",
    "          expr(\"cols['1']\").alias(\"stem\"),\n",
    "          expr(\"cols['2']\").alias(\"ner\"),\n",
    "         )\n",
    "    persons = ner_res[(ner_res.ner == 'B-PER') | (ner_res.ner == 'I-PER')]\n",
    "    per_cnt = persons[['lemma','ner']].groupBy('lemma').count()\n",
    "    per_cnt = per_cnt.withColumn('Movement', lit(movement))\n",
    "    per_cnt_pd = per_cnt.toPandas()\n",
    "\n",
    "print(results)"
   ]
  },
  {
   "cell_type": "code",
   "execution_count": 59,
   "id": "06c2c013",
   "metadata": {},
   "outputs": [
    {
     "data": {
      "application/vnd.jupyter.widget-view+json": {
       "model_id": "d8ed60c104204933b4f891834848ebe4",
       "version_major": 2,
       "version_minor": 0
      },
      "text/plain": [
       "VBox()"
      ]
     },
     "metadata": {},
     "output_type": "display_data"
    },
    {
     "data": {
      "application/vnd.jupyter.widget-view+json": {
       "model_id": "",
       "version_major": 2,
       "version_minor": 0
      },
      "text/plain": [
       "FloatProgress(value=0.0, bar_style='info', description='Progress:', layout=Layout(height='25px', width='50%'),…"
      ]
     },
     "metadata": {},
     "output_type": "display_data"
    }
   ],
   "source": [
    "df = pd.DataFrame(results, columns = ['Movement', 'Count','Month','Year'])\n",
    "\n",
    "with io.StringIO() as csv_buffer:\n",
    "    df.to_csv(csv_buffer, index=False)\n",
    "\n",
    "    response = s3client.put_object(\n",
    "        Bucket='political-movement-data', Key=\"output/NYT_Neoliberalism.csv\", Body=csv_buffer.getvalue()\n",
    "    )\n",
    "    \n",
    "with io.StringIO() as csv_buffer:\n",
    "    per_cnt_pd.to_csv(csv_buffer, index=False)\n",
    "\n",
    "    response = s3client.put_object(\n",
    "        Bucket='political-movement-data', Key=\"output/NYT_Neoliberalism_NER.csv\", Body=csv_buffer.getvalue()\n",
    "    )"
   ]
  }
 ],
 "metadata": {
  "kernelspec": {
   "display_name": "Python 3",
   "language": "python",
   "name": "python3"
  },
  "language_info": {
   "codemirror_mode": {
    "name": "ipython",
    "version": 3
   },
   "file_extension": ".py",
   "mimetype": "text/x-python",
   "name": "python",
   "nbconvert_exporter": "python",
   "pygments_lexer": "ipython3",
   "version": "3.8.8"
  }
 },
 "nbformat": 4,
 "nbformat_minor": 5
}
