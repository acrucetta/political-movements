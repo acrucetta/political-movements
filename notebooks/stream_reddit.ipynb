{
 "cells": [
  {
   "cell_type": "markdown",
   "id": "a6c7fd81",
   "metadata": {},
   "source": [
    "### Setup for streaming Reddit data"
   ]
  },
  {
   "cell_type": "code",
   "execution_count": 21,
   "id": "e80e14b4",
   "metadata": {},
   "outputs": [],
   "source": [
    "import boto3\n",
    "import paramiko\n",
    "from scp import SCPClient\n",
    "import time"
   ]
  },
  {
   "cell_type": "code",
   "execution_count": 22,
   "id": "d8558e2d",
   "metadata": {},
   "outputs": [],
   "source": [
    "session = boto3.Session()\n",
    "\n",
    "kinesis = boto3.client('kinesis')\n",
    "ec2 = session.resource('ec2')\n",
    "ec2_client = session.client('ec2')\n",
    "\n",
    "# turn on the stream\n",
    "kinesis.create_stream(StreamName = 'reddit',\n",
    "                     ShardCount = 1)\n",
    "\n",
    "# make sure we wait until AWS is ready\n",
    "waiter = kinesis.get_waiter('stream_exists')\n",
    "waiter.wait(StreamName = 'reddit')"
   ]
  },
  {
   "cell_type": "code",
   "execution_count": 23,
   "id": "8b7d70db",
   "metadata": {},
   "outputs": [],
   "source": [
    "instances = ec2.create_instances(ImageId='ami-02e136e904f3da870',\n",
    "                                MinCount=1,\n",
    "                                MaxCount=2,\n",
    "                                InstanceType='t2.micro',\n",
    "                                KeyName='test', # pem name\n",
    "                                SecurityGroupIds=['sg-04746102478f6abe5'],\n",
    "                                SecurityGroups=['launch-wizard-1'],\n",
    "                                IamInstanceProfile={'Name': 'EMR_EC2_DefaultRole'})"
   ]
  },
  {
   "cell_type": "code",
   "execution_count": 24,
   "id": "4f0a8642",
   "metadata": {},
   "outputs": [],
   "source": [
    "# wait again\n",
    "waiter = ec2_client.get_waiter('instance_running')\n",
    "waiter.wait(InstanceIds = [instance.id for instance in instances])"
   ]
  },
  {
   "cell_type": "code",
   "execution_count": 25,
   "id": "ce309bbc",
   "metadata": {},
   "outputs": [],
   "source": [
    "# send programs to ec2 instance:\n",
    "instance_dns = [instance.public_dns_name for instance in ec2.instances.all() if instance.state['Name'] == 'running']\n",
    "code = ['producer.py', 'consumer.py']\n",
    "ssh_producer, ssh_consumer = paramiko.SSHClient(), paramiko.SSHClient()\n",
    "\n",
    "# Initialization of SSH tunnels takes a bit of time; otherwise get connection error on first attempt\n",
    "time.sleep(60)"
   ]
  },
  {
   "cell_type": "code",
   "execution_count": 26,
   "id": "4a2d72d1",
   "metadata": {},
   "outputs": [],
   "source": [
    "# Install boto3 on each EC2 instance and Copy our producer/consumer code onto producer/consumer EC2 instances\n",
    "instance = 0\n",
    "stdin, stdout, stderr = [[None, None] for i in range(3)]\n",
    "for ssh in [ssh_producer, ssh_consumer]:\n",
    "    ssh.set_missing_host_key_policy(paramiko.AutoAddPolicy())\n",
    "    ssh.connect(instance_dns[instance],\n",
    "                username = 'ec2-user',\n",
    "                key_filename='C:/Users/Beau Smit/Documents/UChicago/Fall_2021/30123_LSC/test.pem')\n",
    "    \n",
    "    with SCPClient(ssh.get_transport()) as scp:\n",
    "        scp.put(code[instance])\n",
    "    \n",
    "    if instance == 0:\n",
    "        stdin[instance], stdout[instance], stderr[instance] = \\\n",
    "            ssh.exec_command(\"sudo pip3 install boto3 pandas praw\")\n",
    "    else:\n",
    "        stdin[instance], stdout[instance], stderr[instance] = \\\n",
    "            ssh.exec_command(\"sudo pip3 install boto3 pandas praw\")\n",
    "\n",
    "    instance += 1\n"
   ]
  },
  {
   "cell_type": "code",
   "execution_count": 27,
   "id": "c9f65912",
   "metadata": {},
   "outputs": [
    {
     "name": "stdout",
     "output_type": "stream",
     "text": [
      "Producer Instance is Running producer.py\n",
      ".........................................\n",
      "Consumer Instance is Running consumer.py\n",
      ".........................................\n",
      "Connect to Consumer Instance by running: ssh -i \"test.pem\" ec2-user@ec2-18-206-253-226.compute-1.amazonaws.com\n"
     ]
    }
   ],
   "source": [
    "# Block until Producer has installed boto3, then start running Producer script:\n",
    "producer_exit_status = stdout[0].channel.recv_exit_status() \n",
    "if producer_exit_status == 0:\n",
    "    ssh_producer.exec_command(\"python3 %s\" % code[0])\n",
    "    print(\"Producer Instance is Running producer.py\\n.........................................\")\n",
    "else:\n",
    "    print(\"Error\", producer_exit_status)\n",
    "\n",
    "consumer_exit_status = stdout[1].channel.recv_exit_status() \n",
    "if consumer_exit_status == 0:\n",
    "#     ssh_consumer.exec_command(\"python3 %s\" % code[1])\n",
    "    print(\"Consumer Instance is Running consumer.py\\n.........................................\")\n",
    "else:\n",
    "    print(\"Error\", consumer_exit_status)\n",
    "    \n",
    "\n",
    "# Close ssh and show connection instructions for manual access to Consumer Instance\n",
    "ssh_consumer.close; ssh_producer.close()\n",
    "# print(\"Connect to Producer Instance by running: ssh -i \\\"test.pem\\\" ec2-user@%s\" % instance_dns[0])\n",
    "print(\"Connect to Consumer Instance by running: ssh -i \\\"test.pem\\\" ec2-user@%s\" % instance_dns[1])"
   ]
  },
  {
   "cell_type": "markdown",
   "id": "bbce45fa",
   "metadata": {},
   "source": [
    "### Shut down AWS resources"
   ]
  },
  {
   "cell_type": "code",
   "execution_count": 28,
   "id": "1f765bbe",
   "metadata": {},
   "outputs": [
    {
     "name": "stdout",
     "output_type": "stream",
     "text": [
      "i-0bc9755c5e1d3073e t2.micro\n",
      "i-015db72aff4522c37 t2.micro\n",
      "Terminated EC2 instances.\n",
      "Deleted reddit Kinesis stream.\n"
     ]
    }
   ],
   "source": [
    "# terminate ec2 instances\n",
    "ec2 = session.resource('ec2')\n",
    "ec2_client = session.client('ec2')\n",
    "\n",
    "instances = ec2.instances.filter(\n",
    "    Filters=[{'Name': 'instance-state-name', 'Values': ['running']}])\n",
    "for instance in instances:\n",
    "    print(instance.id, instance.instance_type)\n",
    "\n",
    "response = ec2_client.terminate_instances(\n",
    "    InstanceIds=[instance.id for instance in instances])\n",
    "waiter = ec2_client.get_waiter('instance_terminated')\n",
    "waiter.wait(InstanceIds = [instance.id for instance in instances])\n",
    "print(\"Terminated EC2 instances.\")\n",
    "\n",
    "\n",
    "try:\n",
    "    response = kinesis.delete_stream(StreamName = 'reddit')\n",
    "except kinesis.exceptions.ResourceNotFoundException:\n",
    "    print('Kinesis Stream did not delete')\n",
    "\n",
    "waiter = kinesis.get_waiter('stream_not_exists')\n",
    "waiter.wait(StreamName='reddit')\n",
    "print(\"Deleted reddit Kinesis stream.\")"
   ]
  },
  {
   "cell_type": "markdown",
   "id": "13c0c263",
   "metadata": {},
   "source": [
    "### Streaming using the Reddit API instead"
   ]
  },
  {
   "cell_type": "code",
   "execution_count": null,
   "id": "1823a9e8",
   "metadata": {},
   "outputs": [],
   "source": [
    "reddit = praw.Reddit(client_id=\"bugSUScyyC98vFTHpyZXMQ\", \n",
    "                    client_secret=\"KDhBF8XvjxL11WZmHIuhnaNQ3nzzSg\", \n",
    "                    user_agent=\"Scraping\")"
   ]
  },
  {
   "cell_type": "code",
   "execution_count": null,
   "id": "04c2abdf",
   "metadata": {},
   "outputs": [],
   "source": [
    "term_list = []\n",
    "for terms in key_terms['Key Terms']:\n",
    "    for term in terms.split(', '):\n",
    "        term_list.append(term)\n",
    "search_terms = \"|\".join(term_list)"
   ]
  },
  {
   "cell_type": "code",
   "execution_count": null,
   "id": "591982bd",
   "metadata": {},
   "outputs": [],
   "source": [
    "# look for our words of interest across all new submissions\n",
    "for submission in reddit.subreddit(\"all\").stream.submissions():\n",
    "    if re.search(search_terms, submission.title):\n",
    "        print(submission.title)"
   ]
  }
 ],
 "metadata": {
  "kernelspec": {
   "display_name": "Python 3 (ipykernel)",
   "language": "python",
   "name": "python3"
  },
  "language_info": {
   "codemirror_mode": {
    "name": "ipython",
    "version": 3
   },
   "file_extension": ".py",
   "mimetype": "text/x-python",
   "name": "python",
   "nbconvert_exporter": "python",
   "pygments_lexer": "ipython3",
   "version": "3.7.11"
  }
 },
 "nbformat": 4,
 "nbformat_minor": 5
}
